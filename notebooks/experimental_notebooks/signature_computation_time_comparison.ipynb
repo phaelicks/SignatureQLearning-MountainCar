{
 "cells": [
  {
   "cell_type": "code",
   "execution_count": 1,
   "metadata": {},
   "outputs": [
    {
     "ename": "ModuleNotFoundError",
     "evalue": "No module named 'iisignature'",
     "output_type": "error",
     "traceback": [
      "\u001b[0;31m---------------------------------------------------------------------------\u001b[0m",
      "\u001b[0;31mModuleNotFoundError\u001b[0m                       Traceback (most recent call last)",
      "Cell \u001b[0;32mIn[1], line 4\u001b[0m\n\u001b[1;32m      2\u001b[0m \u001b[38;5;28;01mimport\u001b[39;00m \u001b[38;5;21;01mtorch\u001b[39;00m\n\u001b[1;32m      3\u001b[0m \u001b[38;5;28;01mimport\u001b[39;00m \u001b[38;5;21;01msignatory\u001b[39;00m\n\u001b[0;32m----> 4\u001b[0m \u001b[38;5;28;01mimport\u001b[39;00m \u001b[38;5;21;01miisignature\u001b[39;00m\n\u001b[1;32m      5\u001b[0m \u001b[38;5;28;01mimport\u001b[39;00m \u001b[38;5;21;01mtime\u001b[39;00m\n\u001b[1;32m      6\u001b[0m \u001b[38;5;28;01mimport\u001b[39;00m \u001b[38;5;21;01mnumpy\u001b[39;00m\n",
      "\u001b[0;31mModuleNotFoundError\u001b[0m: No module named 'iisignature'"
     ]
    }
   ],
   "source": [
    "#%pip install iisignature\n",
    "import torch\n",
    "import signatory\n",
    "import iisignature\n",
    "import time\n",
    "import numpy"
   ]
  },
  {
   "cell_type": "code",
   "execution_count": 2,
   "metadata": {},
   "outputs": [
    {
     "name": "stdout",
     "output_type": "stream",
     "text": [
      "Times iisignsture: \n",
      " [0.00011394 0.00012352 0.00094166 0.00902739]\n",
      "Times signatory: \n",
      "  [0.00049684 0.00071456 0.00335073 0.01670105]\n",
      "Speed up: \n",
      " [4.36053568 5.78479058 3.55833502 1.85004331]\n",
      "Average speed up: 3.8884261481309217\n"
     ]
    }
   ],
   "source": [
    "\n",
    "import torch\n",
    "import signatory\n",
    "import iisignature\n",
    "import time\n",
    "import numpy as np\n",
    "\n",
    "runs, max_length = 10, 4\n",
    "channels, sig_depth = 3, 4\n",
    "times_iisig = np.zeros(max_length)\n",
    "times_signatory = np.zeros(max_length)\n",
    "\n",
    "for j in range(runs):\n",
    "    for i in range(max_length):\n",
    "        path = torch.rand(10**(i+1), channels)\n",
    "\n",
    "        start = time.time()\n",
    "        sig = iisignature.sig(path, sig_depth)\n",
    "        end = time.time()\n",
    "        times_iisig[i] += (end - start)    \n",
    "        del(sig)\n",
    "\n",
    "        path = path.unsqueeze(0)\n",
    "        start = time.time()\n",
    "        sig = signatory.signature(path, sig_depth)\n",
    "        end = time.time()\n",
    "        times_signatory[i] += (end - start)\n",
    "        del(path, sig)\n",
    "\n",
    "print('Times iisignsture: \\n', times_iisig / runs)\n",
    "print('Times signatory: \\n ', times_signatory / runs)\n",
    "print('Speed up: \\n', times_signatory / times_iisig)\n",
    "print('Average speed up:', (times_signatory / times_iisig).mean())\n"
   ]
  }
 ],
 "metadata": {
  "kernelspec": {
   "display_name": "venv",
   "language": "python",
   "name": "python3"
  },
  "language_info": {
   "codemirror_mode": {
    "name": "ipython",
    "version": 3
   },
   "file_extension": ".py",
   "mimetype": "text/x-python",
   "name": "python",
   "nbconvert_exporter": "python",
   "pygments_lexer": "ipython3",
   "version": "3.8.0"
  },
  "orig_nbformat": 4
 },
 "nbformat": 4,
 "nbformat_minor": 2
}
